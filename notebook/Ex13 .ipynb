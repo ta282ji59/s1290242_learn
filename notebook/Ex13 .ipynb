{
 "cells": [
  {
   "cell_type": "markdown",
   "id": "17943e70-bc63-4f28-b503-778e8434dc46",
   "metadata": {},
   "source": [
    " ### i) Replace the NaN values ​​to zero.\n",
    "\n",
    "### ii) Replace the values ​​greater than or equal to 100 to zero\n",
    "\n",
    "### iii) Replace the \"timestamp\" column name with tid. Next, replace existing values ​​of this column with 1, 2, 3, ...\n",
    "\n",
    "### v) Implement the code \"Dense data frame to transactional database\" by setting >= condition and threshold value= 15.\n",
    "\n",
    "### vi) Save the file as PM24HeavyPollutionRecordingSensors.csv. The output database represents the sensors where people were frequently exposed to harmful levels of air pollution."
   ]
  },
  {
   "cell_type": "code",
   "execution_count": 171,
   "id": "7aab7741-e8cb-4e28-af7e-b4ca35cef1f5",
   "metadata": {},
   "outputs": [],
   "source": [
    "import pandas as pd\n",
    "import numpy as np\n",
    "\n",
    "# Load the data\n",
    "df = pd.read_csv('pm25.csv', low_memory=False)\n",
    "\n",
    "# NaN values to 0\n",
    "df.fillna(0, inplace=True)\n",
    "\n",
    "# Values >= 100 to 0\n",
    "numeric_cols = df.select_dtypes(include=[np.number]).columns\n",
    "df[numeric_cols] = df[numeric_cols].apply(lambda x: np.where(x >= 100, 0, x))\n",
    "\n",
    "# Get the last valid index for the 'Timestamp' column\n",
    "last_obsdate_index = df['Timestamp'].last_valid_index()\n",
    "\n",
    "# Remove rows after the last valid index\n",
    "df = df.iloc[:last_obsdate_index + 1]\n",
    "\n",
    "# Drop 'Timestamp' column\n",
    "df = df.drop(columns=['Timestamp'])\n",
    "\n",
    "# Filter values >= 15 and replace others with None (NaN)\n",
    "df = df.applymap(lambda x: x if x >= 15 else None)\n",
    "\n",
    "# Shift data up to remove NaNs\n",
    "df = df.apply(lambda series: series.dropna().reset_index(drop=True))\n",
    "\n",
    "# Replace remaining NaNs with empty strings\n",
    "df.fillna(\"\", inplace=True)\n",
    "\n",
    "# Remove columns where all values are NaN\n",
    "df = df.replace(\"\", np.nan).dropna(axis=1, how='all')\n",
    "\n",
    "# Save the processed data to 'a.csv'\n",
    "df.to_csv('PM24HeavyPollutionRecordingSensors.csv', index=False)\n"
   ]
  },
  {
   "cell_type": "markdown",
   "id": "16ee536c-68ee-4c90-b26b-70597ff86192",
   "metadata": {},
   "source": [
    "### iv) Install PAMI repository: pip install -U PAMI, and     Read Chapter 3 at  https://udaylab.github.io/PAMI/manuals/index.html"
   ]
  },
  {
   "cell_type": "code",
   "execution_count": 6,
   "id": "50606ac9-99ba-4819-a0ce-db2bc0368d05",
   "metadata": {},
   "outputs": [
    {
     "name": "stdout",
     "output_type": "stream",
     "text": [
      "Defaulting to user installation because normal site-packages is not writeable\n",
      "Requirement already satisfied: PAMI in /home/tatsuya/.local/lib/python3.10/site-packages (2023.7.28.5)\n",
      "Requirement already satisfied: psutil in /home/jupyterHub/anaconda3/envs/jupyterHub/lib/python3.10/site-packages (from PAMI) (5.9.1)\n",
      "Requirement already satisfied: pandas in /home/tatsuya/.local/lib/python3.10/site-packages (from PAMI) (2.0.3)\n",
      "Requirement already satisfied: plotly in /home/tatsuya/.local/lib/python3.10/site-packages (from PAMI) (5.15.0)\n",
      "Requirement already satisfied: matplotlib in /home/jupyterHub/anaconda3/envs/jupyterHub/lib/python3.10/site-packages (from PAMI) (3.5.2)\n",
      "Requirement already satisfied: resource in /home/jupyterHub/anaconda3/envs/jupyterHub/lib/python3.10/site-packages (from PAMI) (0.2.1)\n",
      "Requirement already satisfied: validators in /home/jupyterHub/anaconda3/envs/jupyterHub/lib/python3.10/site-packages (from PAMI) (0.20.0)\n",
      "Requirement already satisfied: urllib3 in /home/jupyterHub/anaconda3/envs/jupyterHub/lib/python3.10/site-packages (from PAMI) (1.26.9)\n",
      "Requirement already satisfied: Pillow in /home/jupyterHub/anaconda3/envs/jupyterHub/lib/python3.10/site-packages (from PAMI) (9.1.1)\n",
      "Requirement already satisfied: numpy in /home/jupyterHub/anaconda3/envs/jupyterHub/lib/python3.10/site-packages (from PAMI) (1.22.3)\n",
      "Requirement already satisfied: cycler>=0.10 in /home/jupyterHub/anaconda3/envs/jupyterHub/lib/python3.10/site-packages (from matplotlib->PAMI) (0.11.0)\n",
      "Requirement already satisfied: fonttools>=4.22.0 in /home/jupyterHub/anaconda3/envs/jupyterHub/lib/python3.10/site-packages (from matplotlib->PAMI) (4.33.3)\n",
      "Requirement already satisfied: kiwisolver>=1.0.1 in /home/jupyterHub/anaconda3/envs/jupyterHub/lib/python3.10/site-packages (from matplotlib->PAMI) (1.4.3)\n",
      "Requirement already satisfied: packaging>=20.0 in /home/jupyterHub/anaconda3/envs/jupyterHub/lib/python3.10/site-packages (from matplotlib->PAMI) (21.3)\n",
      "Requirement already satisfied: pyparsing>=2.2.1 in /home/jupyterHub/anaconda3/envs/jupyterHub/lib/python3.10/site-packages (from matplotlib->PAMI) (3.0.9)\n",
      "Requirement already satisfied: python-dateutil>=2.7 in /home/jupyterHub/anaconda3/envs/jupyterHub/lib/python3.10/site-packages (from matplotlib->PAMI) (2.8.2)\n",
      "Requirement already satisfied: pytz>=2020.1 in /home/jupyterHub/anaconda3/envs/jupyterHub/lib/python3.10/site-packages (from pandas->PAMI) (2022.1)\n",
      "Requirement already satisfied: tzdata>=2022.1 in /home/jupyterHub/anaconda3/envs/jupyterHub/lib/python3.10/site-packages (from pandas->PAMI) (2023.3)\n",
      "Requirement already satisfied: tenacity>=6.2.0 in /home/jupyterHub/anaconda3/envs/jupyterHub/lib/python3.10/site-packages (from plotly->PAMI) (8.0.1)\n",
      "Requirement already satisfied: JsonForm>=0.0.2 in /home/jupyterHub/anaconda3/envs/jupyterHub/lib/python3.10/site-packages (from resource->PAMI) (0.0.2)\n",
      "Requirement already satisfied: JsonSir>=0.0.2 in /home/jupyterHub/anaconda3/envs/jupyterHub/lib/python3.10/site-packages (from resource->PAMI) (0.0.2)\n",
      "Requirement already satisfied: python-easyconfig>=0.1.0 in /home/jupyterHub/anaconda3/envs/jupyterHub/lib/python3.10/site-packages (from resource->PAMI) (0.1.7)\n",
      "Requirement already satisfied: decorator>=3.4.0 in /home/jupyterHub/anaconda3/envs/jupyterHub/lib/python3.10/site-packages (from validators->PAMI) (5.1.1)\n",
      "Requirement already satisfied: jsonschema in /home/jupyterHub/anaconda3/envs/jupyterHub/lib/python3.10/site-packages (from JsonForm>=0.0.2->resource->PAMI) (4.6.0)\n",
      "Requirement already satisfied: six>=1.5 in /home/jupyterHub/anaconda3/envs/jupyterHub/lib/python3.10/site-packages (from python-dateutil>=2.7->matplotlib->PAMI) (1.16.0)\n",
      "Requirement already satisfied: PyYAML in /home/jupyterHub/anaconda3/envs/jupyterHub/lib/python3.10/site-packages (from python-easyconfig>=0.1.0->resource->PAMI) (6.0)\n",
      "Requirement already satisfied: attrs>=17.4.0 in /home/jupyterHub/anaconda3/envs/jupyterHub/lib/python3.10/site-packages (from jsonschema->JsonForm>=0.0.2->resource->PAMI) (21.4.0)\n",
      "Requirement already satisfied: pyrsistent!=0.17.0,!=0.17.1,!=0.17.2,>=0.14.0 in /home/jupyterHub/anaconda3/envs/jupyterHub/lib/python3.10/site-packages (from jsonschema->JsonForm>=0.0.2->resource->PAMI) (0.18.1)\n",
      "\n",
      "\u001b[1m[\u001b[0m\u001b[34;49mnotice\u001b[0m\u001b[1;39;49m]\u001b[0m\u001b[39;49m A new release of pip is available: \u001b[0m\u001b[31;49m23.1.2\u001b[0m\u001b[39;49m -> \u001b[0m\u001b[32;49m23.2.1\u001b[0m\n",
      "\u001b[1m[\u001b[0m\u001b[34;49mnotice\u001b[0m\u001b[1;39;49m]\u001b[0m\u001b[39;49m To update, run: \u001b[0m\u001b[32;49m/home/jupyterHub/anaconda3/envs/jupyterHub/bin/python -m pip install --upgrade pip\u001b[0m\n",
      "Note: you may need to restart the kernel to use updated packages.\n"
     ]
    }
   ],
   "source": [
    "pip install -U PAMI"
   ]
  },
  {
   "cell_type": "code",
   "execution_count": null,
   "id": "ad0a81f5-38b8-4937-b5a7-d698a5dc91e4",
   "metadata": {},
   "outputs": [],
   "source": []
  },
  {
   "cell_type": "markdown",
   "id": "f328e476-3652-496f-a25d-33b6219e8353",
   "metadata": {},
   "source": []
  },
  {
   "cell_type": "code",
   "execution_count": null,
   "id": "f72ad017-818a-4f95-a23a-6c87f787c25b",
   "metadata": {},
   "outputs": [],
   "source": []
  },
  {
   "cell_type": "markdown",
   "id": "e204e4b3-8810-431e-8afb-b96406ccb358",
   "metadata": {},
   "source": [
    "## i) Read and Implement Chapter 5   https://udaylab.github.io/PAMI/manuals/index.html"
   ]
  },
  {
   "cell_type": "markdown",
   "id": "230ef85e-14db-4f67-aff6-1ffba681c72a",
   "metadata": {},
   "source": [
    "1"
   ]
  },
  {
   "cell_type": "code",
   "execution_count": 21,
   "id": "4570802b-70ef-48cc-ac8f-a2c6d5859f9f",
   "metadata": {},
   "outputs": [],
   "source": [
    "import PAMI.extras.dbStats.transactionalDatabaseStats as stats"
   ]
  },
  {
   "cell_type": "code",
   "execution_count": 22,
   "id": "60294ede-e53c-44b2-9d06-0308c3a8ed9f",
   "metadata": {},
   "outputs": [
    {
     "name": "stdout",
     "output_type": "stream",
     "text": [
      "Database size (total no of transactions) : 99935\n",
      "Number of items : 870\n",
      "Minimum Transaction Size : 1\n",
      "Average Transaction Size : 10.101836193525791\n",
      "Maximum Transaction Size : 29\n",
      "Standard Deviation Transaction Size : 3.667097909135199\n",
      "Variance in Transaction Sizes : 13.447741640067324\n",
      "Sparsity : 0.9883886940304302\n"
     ]
    },
    {
     "data": {
      "image/png": "[encoded data removed]",
      "text/plain": [
       "<Figure size 432x288 with 1 Axes>"
      ]
     },
     "metadata": {
      "needs_background": "light"
     },
     "output_type": "display_data"
    },
    {
     "data": {
      "image/png": "[encoded data removed]",
      "text/plain": [
       "<Figure size 432x288 with 1 Axes>"
      ]
     },
     "metadata": {
      "needs_background": "light"
     },
     "output_type": "display_data"
    }
   ],
   "source": [
    "#import the class file\n",
    "import PAMI.extras.dbStats.transactionalDatabaseStats as stats\n",
    "\n",
    "#specify the file name\n",
    "inputFile = 'Transactional_T10I4D100K.csv'\n",
    "\n",
    "obj=stats.transactionalDatabaseStats(inputFile,sep='\\t') \n",
    "obj.run() \n",
    "\n",
    "obj.printStats() \n",
    "obj.plotGraphs()"
   ]
  },
  {
   "cell_type": "code",
   "execution_count": 73,
   "id": "53bee739-5512-46f9-ab81-6bd366f2e357",
   "metadata": {},
   "outputs": [
    {
     "name": "stdout",
     "output_type": "stream",
     "text": [
      "Database size : 99935\n",
      "Total number of items : 870\n",
      "Database sparsity : 0.9883886940304302\n",
      "Minimum Transaction Size : 1\n",
      "Average Transaction Size : 10.101836193525791\n",
      "Maximum Transaction Size : 29\n",
      "Standard Deviation Transaction Size : 3.667097909135199\n",
      "Variance in Transaction Sizes : 13.447741640067324\n"
     ]
    }
   ],
   "source": [
    "import PAMI.extras.dbStats.transactionalDatabaseStats as tds\n",
    "    \n",
    "inputFile = \"Transactional_T10I4D100K.csv\"\n",
    "\n",
    "#initialize the program\n",
    "obj = tds.transactionalDatabaseStats(inputFile)\n",
    "#obj = tds.transactionalDatabaseStats(inputFile,sep='\\t') #override default tab seperator\n",
    "\n",
    "#execute the program\n",
    "obj.run()\n",
    "\n",
    "#print the database statistics\n",
    "print(f'Database size : {obj.getDatabaseSize()}')\n",
    "print(f'Total number of items : {obj.getTotalNumberOfItems()}')\n",
    "print(f'Database sparsity : {obj.getSparsity()}')\n",
    "print(f'Minimum Transaction Size : {obj.getMinimumTransactionLength()}')\n",
    "print(f'Average Transaction Size : {obj.getAverageTransactionLength()}')\n",
    "print(f'Maximum Transaction Size : {obj.getMaximumTransactionLength()}')\n",
    "print(f'Standard Deviation Transaction Size : {obj.getStandardDeviationTransactionLength()}')\n",
    "print(f'Variance in Transaction Sizes : {obj.getVarianceTransactionLength()}')\n",
    "\n",
    "itemFrequencies = obj.getSortedListOfItemFrequencies()\n",
    "transactionLength = obj.getTransanctionalLengthDistribution()\n",
    "obj.save(itemFrequencies, 'itemFrequency.csv')\n",
    "obj.save(transactionLength, 'transactionSize.csv')   "
   ]
  },
  {
   "cell_type": "markdown",
   "id": "09bc9461-101c-43c3-a5c1-af26d4a3bc02",
   "metadata": {},
   "source": [
    "2"
   ]
  },
  {
   "cell_type": "code",
   "execution_count": 74,
   "id": "d1ff0ced-380f-4a1e-9be0-c6d30f58b89c",
   "metadata": {},
   "outputs": [
    {
     "name": "stdout",
     "output_type": "stream",
     "text": [
      "Database size : 99935\n",
      "Total number of items : 869\n",
      "Database sparsity : 0.9895260803296596\n",
      "Minimum Transaction Size : 0\n",
      "Average Transaction Size : 9.101836193525791\n",
      "Maximum Transaction Size : 28\n",
      "Standard Deviation Transaction Size : 3.667097909135199\n",
      "Variance in Transaction Sizes : 13.447741640067324\n",
      "Minimum period : 1\n",
      "Average period : 1.0\n",
      "Maximum period : 1\n"
     ]
    }
   ],
   "source": [
    "#import the program\n",
    "import PAMI.extras.dbStats.temporalDatabaseStats as tds\n",
    "          \n",
    "inputFile =\"Transactional_T10I4D100K.csv\"\n",
    "#initialize the program\n",
    "obj = tds.temporalDatabaseStats(inputFile)\n",
    "# obj = tds.temporalDatabaseStats(inputFile, sep=',')  #overrride default tab seperator\n",
    "obj.run()\n",
    "\n",
    "print(f'Database size : {obj.getDatabaseSize()}')\n",
    "print(f'Total number of items : {obj.getTotalNumberOfItems()}')\n",
    "print(f'Database sparsity : {obj.getSparsity()}')\n",
    "print(f'Minimum Transaction Size : {obj.getMinimumTransactionLength()}')\n",
    "print(f'Average Transaction Size : {obj.getAverageTransactionLength()}')\n",
    "print(f'Maximum Transaction Size : {obj.getMaximumTransactionLength()}')\n",
    "print(f'Standard Deviation Transaction Size : {obj.getStandardDeviationTransactionLength()}')\n",
    "print(f'Variance in Transaction Sizes : {obj. getVarianceTransactionLength()}')\n",
    "print(f'Minimum period : {obj.getMinimumPeriod()}')\n",
    "print(f'Average period : {obj.getAveragePeriod()}')\n",
    "print(f'Maximum period : {obj.getMaximumPeriod()}')\n",
    "\n",
    "itemFrequencies = obj.getSortedListOfItemFrequencies()\n",
    "transactionLength = obj.getTransanctionalLengthDistribution()\n",
    "numberOfTransactionPerTimeStamp = obj.getNumberOfTransactionsPerTimestamp()\n",
    "obj.save(itemFrequencies,'itemFrequency.csv')\n",
    "obj.save(transactionLength, 'transactionSize.csv')\n",
    "obj.save(numberOfTransactionPerTimeStamp, 'numberOfTransaction.csv')"
   ]
  },
  {
   "cell_type": "markdown",
   "id": "e8752922-88d6-4e54-8fe6-753e51f89750",
   "metadata": {},
   "source": [
    "3"
   ]
  },
  {
   "cell_type": "code",
   "execution_count": 77,
   "id": "fad92dee-7051-4e72-acd5-704331276536",
   "metadata": {},
   "outputs": [
    {
     "name": "stdout",
     "output_type": "stream",
     "text": [
      "Database size : 99935\n",
      "Total number of items : 870\n",
      "Database sparsity : 0.9883886940304302\n",
      "Minimum Transaction Size : 1\n",
      "Average Transaction Size : 10.101836193525791\n",
      "Maximum Transaction Size : 29\n",
      "Standard Deviation Transaction Size : 3.667097909135199\n",
      "Variance in Transaction Sizes : 13.447741640067324\n"
     ]
    }
   ],
   "source": [
    "#import the class file\n",
    "import PAMI.extras.dbStats.transactionalDatabaseStats as stats\n",
    "\n",
    "#specify the file name\n",
    "inputFile = 'Transactional_T10I4D100K.csv'\n",
    "\n",
    "#initialize the class\n",
    "obj=stats.transactionalDatabaseStats(inputFile,sep='\\t')\n",
    "\n",
    "#execute the class\n",
    "obj.run()\n",
    "\n",
    "#Printing each of the database statistics\n",
    "print(f'Database size : {obj.getDatabaseSize()}')\n",
    "print(f'Total number of items : {obj.getTotalNumberOfItems()}')\n",
    "print(f'Database sparsity : {obj.getSparsity()}')\n",
    "print(f'Minimum Transaction Size : {obj.getMinimumTransactionLength()}')\n",
    "print(f'Average Transaction Size : {obj.getAverageTransactionLength()}')\n",
    "print(f'Maximum Transaction Size : {obj.getMaximumTransactionLength()}')\n",
    "print(f'Standard Deviation Transaction Size : {obj.getStandardDeviationTransactionLength()}')\n",
    "print(f'Variance in Transaction Sizes : {obj.getVarianceTransactionLength()}')\n",
    "\n",
    "#saving the distribution of items' frequencies and transactional lengths\n",
    "itemFrequencies = obj.getSortedListOfItemFrequencies()\n",
    "transactionLength = obj.getTransanctionalLengthDistribution()\n",
    "obj.save(itemFrequencies, 'itemFrequency.csv')\n",
    "obj.save(transactionLength, 'transactionSize.csv')\n",
    "\n",
    "#Alternative apporach to print all of the database statistics and plot them\n",
    "# obj.printStats()\n",
    "# obj.plotGraphs()"
   ]
  },
  {
   "cell_type": "markdown",
   "id": "8e4b0a4c-cd45-4864-afbf-54c8b98b3701",
   "metadata": {},
   "source": [
    "4,5"
   ]
  },
  {
   "cell_type": "markdown",
   "id": "55034b8d-9f8f-47ce-8ae8-5856862a5883",
   "metadata": {},
   "source": [
    "### iii) Implement the FP-growth algorithm by reading the manual: https://udaylab.github.io/PAMI/manuals/utilization.html   Try to find yourself an appropriate minSup value. "
   ]
  },
  {
   "cell_type": "markdown",
   "id": "e9aeda25-2248-471f-8587-6f991355eb47",
   "metadata": {},
   "source": [
    "## Download PM24HeavyPollutionRecordingSensors.csv from class14"
   ]
  },
  {
   "cell_type": "code",
   "execution_count": 186,
   "id": "38d55b7a-e4df-46fb-853f-fe5f4c17cc49",
   "metadata": {},
   "outputs": [],
   "source": [
    "minSup=10 #minSup is specified in count. However, the users can also specify minSup between 0 and 1."
   ]
  },
  {
   "cell_type": "code",
   "execution_count": 187,
   "id": "9f5f31da-a7f4-4b4c-b7cf-e03a9ce46bda",
   "metadata": {},
   "outputs": [
    {
     "name": "stdout",
     "output_type": "stream",
     "text": [
      "Frequent patterns were generated successfully using frequentPatternGrowth algorithm\n",
      "Total No of patterns: 238\n",
      "Runtime: 0.17748522758483887\n",
      "Memory (RSS): 363532288\n",
      "Memory (USS): 347172864\n"
     ]
    }
   ],
   "source": [
    "from PAMI.frequentPattern.basic import FPGrowth  as alg #import the algorithm\n",
    "inputFile='newPM24HeavyPollutionRecordingSensors.csv'\n",
    "obj = alg.FPGrowth(iFile=inputFile, minSup=minSup, sep='\\t')    #initialize\n",
    "obj.startMine()            #start the mining process\n",
    "\n",
    "\n",
    "obj.save('frequentPatternsAtMinSupCount300.txt') #save the patterns\n",
    "\n",
    "\n",
    "frequentPatternsDF= obj.getPatternsAsDataFrame() #get the generated frequent patterns as a dataframe\n",
    "print('Total No of patterns: ' + str(len(frequentPatternsDF))) #print the total number of patterns\n",
    "print('Runtime: ' + str(obj.getRuntime())) #measure the runtime\n",
    "\n",
    "print('Memory (RSS): ' + str(obj.getMemoryRSS()))\n",
    "print('Memory (USS): ' + str(obj.getMemoryUSS()))"
   ]
  },
  {
   "cell_type": "code",
   "execution_count": 188,
   "id": "9b18f843-9e21-48df-8061-d0c51b43be12",
   "metadata": {},
   "outputs": [
    {
     "name": "stdout",
     "output_type": "stream",
     "text": [
      "Max number:  177.0\n",
      "Line with max number:  ['Point(131.4740591 32.0239101)']:177 \n",
      "\n"
     ]
    }
   ],
   "source": [
    "# ファイルを開く\n",
    "with open('frequentPatternsAtMinSupCount300.txt', 'r') as f:\n",
    "    max_num = float('-inf')  # Set infinitely small value as initial value\n",
    "    max_line = \"\"\n",
    "    for line in f:  # loop over each line in the file\n",
    "        try:\n",
    "            num = float(line.split(\":\")[1])  # get the part after \":\" as a float\n",
    "            if num > max_num:  # if the newly obtained number is greater than the current maximum\n",
    "                max_num = num  # update max value\n",
    "                max_line = line  # also update the row with the maximum value\n",
    "        except ValueError:  # Ignore error when \":\" is not a number\n",
    "            pass\n",
    "\n",
    "    print(\"Max number: \", max_num)\n",
    "    print(\"Line with max number: \", max_line)\n"
   ]
  },
  {
   "cell_type": "code",
   "execution_count": 191,
   "id": "d45fb587-7df1-48dd-9c9d-fab693f976dc",
   "metadata": {},
   "outputs": [
    {
     "name": "stdout",
     "output_type": "stream",
     "text": [
      "131.4740591 32.0239101\n"
     ]
    }
   ],
   "source": [
    "\n",
    "# Extract the part between \"Point(\" and \")\"\n",
    "start_index = max_line.index(\"Point(\") + len(\"Point(\")\n",
    "end_index = max_line.index(\")\", start_index)\n",
    "\n",
    "point_coordinates = max_line[start_index:end_index]\n",
    "# split the coordinates using whitespace as delimiter\n",
    "coordinates = point_coordinates.split()\n",
    "\n",
    "# Get split coordinates\n",
    "lat = float(coordinates[0])\n",
    "lon = float(coordinates[1])\n",
    "\n",
    "print(lat, lon)\n"
   ]
  },
  {
   "cell_type": "code",
   "execution_count": 192,
   "id": "5fcb3edf-c3b6-40c8-ac34-cb485b399133",
   "metadata": {},
   "outputs": [
    {
     "data": {
      "text/html": [
       "<div style=\"width:100%;\"><div style=\"position:relative;width:100%;height:0;padding-bottom:60%;\"><span style=\"color:#565656\">Make this Notebook Trusted to load map: File -> Trust Notebook</span><iframe srcdoc=\"&lt;!DOCTYPE html&gt;\n",
       "&lt;html&gt;\n",
       "&lt;head&gt;\n",
       "    \n",
       "    &lt;meta http-equiv=&quot;content-type&quot; content=&quot;text/html; charset=UTF-8&quot; /&gt;\n",
       "    \n",
       "        &lt;script&gt;\n",
       "            L_NO_TOUCH = false;\n",
       "            L_DISABLE_3D = false;\n",
       "        &lt;/script&gt;\n",
       "    \n",
       "    &lt;style&gt;html, body {width: 100%;height: 100%;margin: 0;padding: 0;}&lt;/style&gt;\n",
       "    &lt;style&gt;#map {position:absolute;top:0;bottom:0;right:0;left:0;}&lt;/style&gt;\n",
       "    &lt;script src=&quot;https://cdn.jsdelivr.net/npm/leaflet@1.9.3/dist/leaflet.js&quot;&gt;&lt;/script&gt;\n",
       "    &lt;script src=&quot;https://code.jquery.com/jquery-1.12.4.min.js&quot;&gt;&lt;/script&gt;\n",
       "    &lt;script src=&quot;https://cdn.jsdelivr.net/npm/bootstrap@5.2.2/dist/js/bootstrap.bundle.min.js&quot;&gt;&lt;/script&gt;\n",
       "    &lt;script src=&quot;https://cdnjs.cloudflare.com/ajax/libs/Leaflet.awesome-markers/2.0.2/leaflet.awesome-markers.js&quot;&gt;&lt;/script&gt;\n",
       "    &lt;link rel=&quot;stylesheet&quot; href=&quot;https://cdn.jsdelivr.net/npm/leaflet@1.9.3/dist/leaflet.css&quot;/&gt;\n",
       "    &lt;link rel=&quot;stylesheet&quot; href=&quot;https://cdn.jsdelivr.net/npm/bootstrap@5.2.2/dist/css/bootstrap.min.css&quot;/&gt;\n",
       "    &lt;link rel=&quot;stylesheet&quot; href=&quot;https://netdna.bootstrapcdn.com/bootstrap/3.0.0/css/bootstrap.min.css&quot;/&gt;\n",
       "    &lt;link rel=&quot;stylesheet&quot; href=&quot;https://cdn.jsdelivr.net/npm/@fortawesome/fontawesome-free@6.2.0/css/all.min.css&quot;/&gt;\n",
       "    &lt;link rel=&quot;stylesheet&quot; href=&quot;https://cdnjs.cloudflare.com/ajax/libs/Leaflet.awesome-markers/2.0.2/leaflet.awesome-markers.css&quot;/&gt;\n",
       "    &lt;link rel=&quot;stylesheet&quot; href=&quot;https://cdn.jsdelivr.net/gh/python-visualization/folium/folium/templates/leaflet.awesome.rotate.min.css&quot;/&gt;\n",
       "    \n",
       "            &lt;meta name=&quot;viewport&quot; content=&quot;width=device-width,\n",
       "                initial-scale=1.0, maximum-scale=1.0, user-scalable=no&quot; /&gt;\n",
       "            &lt;style&gt;\n",
       "                #map_35524be7090ae4307ab37b70b25c2b62 {\n",
       "                    position: relative;\n",
       "                    width: 100.0%;\n",
       "                    height: 100.0%;\n",
       "                    left: 0.0%;\n",
       "                    top: 0.0%;\n",
       "                }\n",
       "                .leaflet-container { font-size: 1rem; }\n",
       "            &lt;/style&gt;\n",
       "        \n",
       "&lt;/head&gt;\n",
       "&lt;body&gt;\n",
       "    \n",
       "    \n",
       "            &lt;div class=&quot;folium-map&quot; id=&quot;map_35524be7090ae4307ab37b70b25c2b62&quot; &gt;&lt;/div&gt;\n",
       "        \n",
       "&lt;/body&gt;\n",
       "&lt;script&gt;\n",
       "    \n",
       "    \n",
       "            var map_35524be7090ae4307ab37b70b25c2b62 = L.map(\n",
       "                &quot;map_35524be7090ae4307ab37b70b25c2b62&quot;,\n",
       "                {\n",
       "                    center: [32.0239101, 131.4740591],\n",
       "                    crs: L.CRS.EPSG3857,\n",
       "                    zoom: 8,\n",
       "                    zoomControl: true,\n",
       "                    preferCanvas: false,\n",
       "                }\n",
       "            );\n",
       "\n",
       "            \n",
       "\n",
       "        \n",
       "    \n",
       "            var tile_layer_b11f940056dcca5c2ee6fc05be583383 = L.tileLayer(\n",
       "                &quot;https://{s}.tile.openstreetmap.org/{z}/{x}/{y}.png&quot;,\n",
       "                {&quot;attribution&quot;: &quot;Data by \\u0026copy; \\u003ca target=\\&quot;_blank\\&quot; href=\\&quot;http://openstreetmap.org\\&quot;\\u003eOpenStreetMap\\u003c/a\\u003e, under \\u003ca target=\\&quot;_blank\\&quot; href=\\&quot;http://www.openstreetmap.org/copyright\\&quot;\\u003eODbL\\u003c/a\\u003e.&quot;, &quot;detectRetina&quot;: false, &quot;maxNativeZoom&quot;: 18, &quot;maxZoom&quot;: 18, &quot;minZoom&quot;: 0, &quot;noWrap&quot;: false, &quot;opacity&quot;: 1, &quot;subdomains&quot;: &quot;abc&quot;, &quot;tms&quot;: false}\n",
       "            ).addTo(map_35524be7090ae4307ab37b70b25c2b62);\n",
       "        \n",
       "    \n",
       "            var circle_marker_48e86b2bdf2a32bb6dca68eaf3ab7ac5 = L.circleMarker(\n",
       "                [32.0239101, 131.4740591],\n",
       "                {&quot;bubblingMouseEvents&quot;: true, &quot;color&quot;: &quot;#3388ff&quot;, &quot;dashArray&quot;: null, &quot;dashOffset&quot;: null, &quot;fill&quot;: false, &quot;fillColor&quot;: &quot;#3388ff&quot;, &quot;fillOpacity&quot;: 0.2, &quot;fillRule&quot;: &quot;evenodd&quot;, &quot;lineCap&quot;: &quot;round&quot;, &quot;lineJoin&quot;: &quot;round&quot;, &quot;opacity&quot;: 1.0, &quot;radius&quot;: 10, &quot;stroke&quot;: true, &quot;weight&quot;: 3}\n",
       "            ).addTo(map_35524be7090ae4307ab37b70b25c2b62);\n",
       "        \n",
       "&lt;/script&gt;\n",
       "&lt;/html&gt;\" style=\"position:absolute;width:100%;height:100%;left:0;top:0;border:none !important;\" allowfullscreen webkitallowfullscreen mozallowfullscreen></iframe></div></div>"
      ],
      "text/plain": [
       "<folium.folium.Map at 0x7f94a48b30a0>"
      ]
     },
     "execution_count": 192,
     "metadata": {},
     "output_type": "execute_result"
    }
   ],
   "source": [
    "import pandas as pd\n",
    "import folium\n",
    "\n",
    "# Set proper latitude and longitude values\n",
    "latitude = lon\n",
    "longitude = lat\n",
    "\n",
    "map = folium.Map(location=[latitude, longitude], zoom_start=8)\n",
    "\n",
    "folium.CircleMarker(\n",
    "    [latitude, longitude],\n",
    "    radius=10,\n",
    ").add_to(map)\n",
    "\n",
    "map\n"
   ]
  },
  {
   "cell_type": "markdown",
   "id": "3f34ba59-56cc-4fb1-b0e3-63af3d5a664a",
   "metadata": {},
   "source": [
    "# It was found that high values of PM2.5 were frequently detected on this database in a certain area of Miyazaki Prefecture."
   ]
  },
  {
   "cell_type": "code",
   "execution_count": null,
   "id": "c3d8cb44-cff5-4284-9939-ed8d91115f16",
   "metadata": {},
   "outputs": [],
   "source": []
  },
  {
   "cell_type": "code",
   "execution_count": null,
   "id": "87d847ad-5b09-4b66-bbe5-cc08f475b3b1",
   "metadata": {},
   "outputs": [],
   "source": []
  },
  {
   "cell_type": "markdown",
   "id": "10951082-ae70-4637-ab0d-6fe3f76c19a2",
   "metadata": {},
   "source": [
    "# This is a Github link\n",
    "https://github.com/todorokitai/PAMI/blob/main/notebooks/Ex13.ipynb"
   ]
  },
  {
   "cell_type": "code",
   "execution_count": null,
   "id": "d0859b8c-f3d7-432a-a871-4b735c0a40d9",
   "metadata": {},
   "outputs": [],
   "source": []
  }
 ],
 "metadata": {
  "kernelspec": {
   "display_name": "Python 3 (ipykernel)",
   "language": "python",
   "name": "python3"
  },
  "language_info": {
   "codemirror_mode": {
    "name": "ipython",
    "version": 3
   },
   "file_extension": ".py",
   "mimetype": "text/x-python",
   "name": "python",
   "nbconvert_exporter": "python",
   "pygments_lexer": "ipython3",
   "version": "3.10.4"
  }
 },
 "nbformat": 4,
 "nbformat_minor": 5
}
